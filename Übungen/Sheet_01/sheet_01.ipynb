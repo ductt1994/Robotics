{
 "metadata": {
  "language_info": {
   "codemirror_mode": {
    "name": "ipython",
    "version": 3
   },
   "file_extension": ".py",
   "mimetype": "text/x-python",
   "name": "python",
   "nbconvert_exporter": "python",
   "pygments_lexer": "ipython3",
   "version": "3.7.5-final"
  },
  "orig_nbformat": 2,
  "kernelspec": {
   "name": "python3",
   "display_name": "Python 3.7.5 64-bit",
   "metadata": {
    "interpreter": {
     "hash": "57baa5815c940fdaff4d14510622de9616cae602444507ba5d0b6727c008cbd6"
    }
   }
  }
 },
 "nbformat": 4,
 "nbformat_minor": 2,
 "cells": [
  {
   "cell_type": "code",
   "execution_count": 23,
   "metadata": {},
   "outputs": [],
   "source": [
    "#Exercise sheet 01\n",
    "#Import libs\n",
    "import numpy as np\n",
    "import matplotlib.pyplot as plot"
   ]
  },
  {
   "cell_type": "code",
   "execution_count": 24,
   "metadata": {},
   "outputs": [
    {
     "output_type": "stream",
     "name": "stdout",
     "text": [
      "Transform x1 to g:\n[[2.]\n [3.]\n [1.]]\n"
     ]
    }
   ],
   "source": [
    "#Exercise 1\n",
    "#a)\n",
    "\n",
    "#Transformation of coordinate in local vehicle coordinate system to global coordinate system\n",
    "\n",
    "#Movement of global origin to local origin:\n",
    "#Rotation       +90 °\n",
    "#Translation    [0,1]   from global perspective\n",
    "\n",
    "x1_p1 = np.array([[ 2],\n",
    "                  [-2],\n",
    "                  [ 1]])\n",
    "x1_theta = np.deg2rad(90)\n",
    "\n",
    "g_x = 0\n",
    "g_y = 1\n",
    "\n",
    "g_T_x1 = np.array([[np.cos(x1_theta), -np.sin(x1_theta), g_x],\n",
    "                   [np.sin(x1_theta),  np.cos(x1_theta), g_y],\n",
    "                   [0,                 0,                1  ]])\n",
    "\n",
    "g_p1 = g_T_x1.dot(x1_p1)\n",
    "\n",
    "print('Transform x1 to g:')\n",
    "print(g_p1)"
   ]
  },
  {
   "cell_type": "code",
   "execution_count": 25,
   "metadata": {},
   "outputs": [
    {
     "output_type": "stream",
     "name": "stdout",
     "text": [
      "Determinant is != 0\n1.0\nInverse of T:\n[[ 6.123234e-17  1.000000e+00 -1.000000e+00]\n [-1.000000e+00  6.123234e-17 -6.123234e-17]\n [ 0.000000e+00  0.000000e+00  1.000000e+00]]\nx1_p1:\n[[ 2.]\n [-2.]\n [ 1.]]\n"
     ]
    }
   ],
   "source": [
    "#Exercise 1\n",
    "#b\n",
    "#Version 1 via inverse Matrix\n",
    "#Movement of local origin to global origin:\n",
    "#Rotation       -90 °\n",
    "#Translation    [-1,0]   from local perspective\n",
    "\n",
    "#From previous part:\n",
    "# g_p1 = g_T_x1 * x1_p1\n",
    "# x1_p1 = inverse(g_T_x1) * g_p1\n",
    "\n",
    "#Inverse of matrix exists if it's determinant != 0\n",
    "det_T = np.linalg.det(g_T_x1)\n",
    "if det_T != 0:\n",
    "    print(\"Determinant is != 0\")\n",
    "    print(det_T)\n",
    "\n",
    "inv_g_T_x1 = np.linalg.inv(g_T_x1)\n",
    "print(\"Inverse of T:\")\n",
    "print(inv_g_T_x1)\n",
    "\n",
    "#Calculate point from global to local\n",
    "g_p1 = np.array([[2],\n",
    "                [3],\n",
    "                [1]])\n",
    "x1_p1 = inv_g_T_x1.dot(g_p)\n",
    "\n",
    "print(\"x1_p1:\")\n",
    "print(x1_p1)"
   ]
  },
  {
   "cell_type": "code",
   "execution_count": 26,
   "metadata": {},
   "outputs": [
    {
     "output_type": "stream",
     "name": "stdout",
     "text": [
      "[[ 6.123234e-17  1.000000e+00 -1.000000e+00]\n [-1.000000e+00  6.123234e-17  0.000000e+00]\n [ 0.000000e+00  0.000000e+00  1.000000e+00]]\nTransform g to x1:\n[[ 2.]\n [-2.]\n [ 1.]]\n"
     ]
    }
   ],
   "source": [
    "#Exercise 1\n",
    "#b\n",
    "#Version 1 via inverse Matrix\n",
    "#Movement of local origin to global origin:\n",
    "#Rotation       -90 °\n",
    "#Translation    [-1,0]   from local perspective\n",
    "\n",
    "g_p1 = np.array([[2],\n",
    "                [3],\n",
    "                [1]])\n",
    "\n",
    "g_theta = np.deg2rad(-90)\n",
    "\n",
    "x1_x = -1\n",
    "x1_y = 0\n",
    "\n",
    "x1_T_g = np.array([[np.cos(g_theta), -np.sin(g_theta), x1_x],\n",
    "                   [np.sin(g_theta),  np.cos(g_theta), x1_y],\n",
    "                   [0,                0,               1   ]])\n",
    "\n",
    "x1_p1 = x1_T_g.dot(g_p1)\n",
    "\n",
    "print(x1_T_g)\n",
    "\n",
    "print('Transform g to x1:')\n",
    "print(x1_p1)"
   ]
  },
  {
   "cell_type": "code",
   "execution_count": 18,
   "metadata": {},
   "outputs": [
    {
     "output_type": "stream",
     "name": "stdout",
     "text": [
      "[[-1.0000000e+00 -1.2246468e-16 -2.0000000e+00]\n [ 1.2246468e-16 -1.0000000e+00  1.0000000e+00]\n [ 0.0000000e+00  0.0000000e+00  1.0000000e+00]]\n"
     ]
    }
   ],
   "source": [
    "#Exercise 1\n",
    "#c\n",
    "#Robot moves to new location x2\n",
    "#Manual check of x1_T_x2\n",
    "\n",
    "x2_theta = np.deg2rad(180)\n",
    "\n",
    "x1_x = -2\n",
    "x1_y = 1\n",
    "\n",
    "x1_T_x2 = np.array([[np.cos(x2_theta),  -np.sin(x2_theta),  x1_x],\n",
    "                    [np.sin(x2_theta),   np.cos(x2_theta),  x1_y],\n",
    "                    [0,                  0,                 1   ]])\n",
    "print(x1_T_x2)"
   ]
  },
  {
   "cell_type": "code",
   "execution_count": 28,
   "metadata": {},
   "outputs": [
    {
     "output_type": "stream",
     "name": "stdout",
     "text": [
      "[[ 6.123234e-17  1.000000e+00 -1.000000e+00]\n [-1.000000e+00  6.123234e-17  0.000000e+00]\n [ 0.000000e+00  0.000000e+00  1.000000e+00]]\n[[-1.0000000e+00  1.2246468e-16 -2.0000000e+00]\n [-1.2246468e-16 -1.0000000e+00  1.0000000e+00]\n [ 0.0000000e+00  0.0000000e+00  1.0000000e+00]]\n"
     ]
    }
   ],
   "source": [
    "#Exercise 1\n",
    "#c\n",
    "#Robot moves to new location x2\n",
    "#Transformation matrix as combination of Transformation product\n",
    "print(x1_T_g)\n",
    "\n",
    "#Thetha of x2 w.r.t. g\n",
    "x2_theta = np.deg2rad(-90)\n",
    "g_x = -1\n",
    "g_y = -1\n",
    "\n",
    "g_T_x2 = np.array([[np.cos(x2_theta),  -np.sin(x2_theta),  g_x],\n",
    "                   [np.sin(x2_theta),   np.cos(x2_theta),  g_y],\n",
    "                   [0,                  0,                 1  ]])\n",
    "\n",
    "x1_T_x2 = x1_T_g.dot(g_T_x2)\n",
    "\n",
    "print(x1_T_x2)"
   ]
  },
  {
   "cell_type": "code",
   "execution_count": 31,
   "metadata": {},
   "outputs": [
    {
     "output_type": "stream",
     "name": "stdout",
     "text": [
      "[[ 2.]\n [-2.]\n [ 1.]]\n[[-4.]\n [ 3.]\n [ 1.]]\n"
     ]
    }
   ],
   "source": [
    "#Exercise 1\n",
    "#d\n",
    "#Robot is at position x2\n",
    "#Where is the landmark p1 w.r.t. x2 -> x2_p1?\n",
    "\n",
    "print(x1_p1)\n",
    "\n",
    "x2_T_x1 = np.linalg.inv(x1_T_x2)\n",
    "\n",
    "x2_p1 = x2_T_x1.dot(x1_p1)\n",
    "\n",
    "print(x2_p1)\n"
   ]
  },
  {
   "cell_type": "code",
   "execution_count": 41,
   "metadata": {},
   "outputs": [
    {
     "output_type": "stream",
     "name": "stdout",
     "text": [
      "[[-4.]\n [ 3.]\n [ 1.]]\n"
     ]
    }
   ],
   "source": [
    "#Exercise 1\n",
    "#d\n",
    "#Concatenation of multiple Transformations\n",
    "\n",
    "#x2_T_x1 * x1_T_g * g_p1 = x2_p1\n",
    "\n",
    "x1_T_g = np.array([[np.cos(np.deg2rad(-90)),  -np.sin(np.deg2rad(-90)), -1],\n",
    "                   [np.sin(np.deg2rad(-90)),   np.cos(np.deg2rad(-90)),  0],\n",
    "                   [0,                         0,                        1]])\n",
    "\n",
    "x2_T_x1 = np.array([[np.cos(np.deg2rad(-180)),  -np.sin(np.deg2rad(-180)), -2],\n",
    "                    [np.sin(np.deg2rad(-180)),   np.cos(np.deg2rad(-180)),  1],\n",
    "                    [0,                         0,                          1]])\n",
    "\n",
    "g_p1 = np.array([[2],\n",
    "                 [3],\n",
    "                 [1]])\n",
    "\n",
    "x2_p1 = x2_T_x1.dot(x1_T_g.dot(g_p1))\n",
    "\n",
    "print(x2_p1)\n"
   ]
  }
 ]
}