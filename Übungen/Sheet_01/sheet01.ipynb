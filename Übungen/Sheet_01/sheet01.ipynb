{
 "metadata": {
  "language_info": {
   "codemirror_mode": {
    "name": "ipython",
    "version": 3
   },
   "file_extension": ".py",
   "mimetype": "text/x-python",
   "name": "python",
   "nbconvert_exporter": "python",
   "pygments_lexer": "ipython3",
   "version": "3.7.5-final"
  },
  "orig_nbformat": 2,
  "kernelspec": {
   "name": "python3",
   "display_name": "Python 3.7.5 64-bit",
   "metadata": {
    "interpreter": {
     "hash": "57baa5815c940fdaff4d14510622de9616cae602444507ba5d0b6727c008cbd6"
    }
   }
  }
 },
 "nbformat": 4,
 "nbformat_minor": 2,
 "cells": [
  {
   "cell_type": "code",
   "execution_count": 4,
   "metadata": {},
   "outputs": [],
   "source": [
    "#Include all libraries\n",
    "import numpy as np"
   ]
  },
  {
   "cell_type": "code",
   "execution_count": 30,
   "metadata": {},
   "outputs": [
    {
     "output_type": "stream",
     "name": "stdout",
     "text": [
      "[[2 2]\n [2 2]]\n"
     ]
    }
   ],
   "source": [
    "a = np.array([[1,1],\n",
    "              [1,1]])\n",
    "\n",
    "b = np.array([[2,0],\n",
    "              [0,2]])\n",
    "\n",
    "# print(a)\n",
    "# print(b)\n",
    "\n",
    "# print(a*b)\n",
    "a.dot\n",
    "\n",
    "print(a.dot(b))"
   ]
  }
 ]
}