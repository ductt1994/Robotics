{
 "metadata": {
  "language_info": {
   "codemirror_mode": {
    "name": "ipython",
    "version": 3
   },
   "file_extension": ".py",
   "mimetype": "text/x-python",
   "name": "python",
   "nbconvert_exporter": "python",
   "pygments_lexer": "ipython3",
   "version": "3.7.5-final"
  },
  "orig_nbformat": 2,
  "kernelspec": {
   "name": "python3",
   "display_name": "Python 3.7.5 64-bit",
   "metadata": {
    "interpreter": {
     "hash": "57baa5815c940fdaff4d14510622de9616cae602444507ba5d0b6727c008cbd6"
    }
   }
  }
 },
 "nbformat": 4,
 "nbformat_minor": 2,
 "cells": [
  {
   "cell_type": "code",
   "execution_count": 13,
   "metadata": {},
   "outputs": [],
   "source": [
    "#Include all libraries\n",
    "import numpy as np\n",
    "import matplotlib.pyplot as plt"
   ]
  },
  {
   "cell_type": "code",
   "execution_count": 8,
   "metadata": {},
   "outputs": [
    {
     "output_type": "stream",
     "name": "stdout",
     "text": [
      "[[2 2]\n [2 2]]\n"
     ]
    }
   ],
   "source": [
    "a = np.array([[1,1],\n",
    "              [1,1]])\n",
    "b = np.array([[2,0],\n",
    "              [0,2]])\n",
    "a.dot\n",
    "print(a.dot(b))"
   ]
  },
  {
   "cell_type": "code",
   "execution_count": 9,
   "metadata": {},
   "outputs": [
    {
     "output_type": "stream",
     "name": "stdout",
     "text": [
      "[[1 0]]\n[[1]\n [0]]\n"
     ]
    }
   ],
   "source": [
    "a = np.array([[1, 0]])\n",
    "print(a)\n",
    "b = np.transpose(a)\n",
    "print(b)"
   ]
  },
  {
   "cell_type": "code",
   "execution_count": 4,
   "metadata": {},
   "outputs": [
    {
     "output_type": "stream",
     "name": "stdout",
     "text": [
      "[[ 2]\n [-2]\n [ 1]]\n[[2.]\n [3.]\n [1.]]\n"
     ]
    }
   ],
   "source": [
    "#Testing affine matrix transformation\n",
    "x = 2\n",
    "y = -2\n",
    "\n",
    "p1 = np.array([[x,y,1]]).transpose()\n",
    "\n",
    "delta_x = 0\n",
    "delta_y = 1\n",
    "theta = np.deg2rad(90)\n",
    "\n",
    "t = np.array([ [np.cos(theta),   -np.sin(theta),   delta_x],\n",
    "               [np.sin(theta),    np.cos(theta),   delta_y],\n",
    "               [0,                0,               1      ]])\n",
    "p2 = t.dot(p1)\n",
    "\n",
    "print(p1)\n",
    "print(p2)"
   ]
  },
  {
   "cell_type": "code",
   "execution_count": 12,
   "metadata": {},
   "outputs": [
    {
     "output_type": "stream",
     "name": "stdout",
     "text": [
      "[[ 2]\n [-2]\n [ 1]]\n[[2.]\n [3.]\n [1.]]\n"
     ]
    }
   ],
   "source": [
    "#Testing affine matrix transformation\n",
    "x = 2\n",
    "y = -2\n",
    "\n",
    "p1 = np.array([[x,y,1]]).transpose()\n",
    "\n",
    "delta_x = 1\n",
    "delta_y = 0\n",
    "theta = np.deg2rad(90)\n",
    "\n",
    "rt = np.array([[np.cos(theta),   -np.sin(theta),   0],\n",
    "               [np.sin(theta),    np.cos(theta),   0],\n",
    "               [0,                0,               1]])\n",
    "\n",
    "tr = np.array([[1, 0, delta_x],\n",
    "               [0, 1, delta_y],\n",
    "               [0, 0, 1      ]])\n",
    "\n",
    "p2 = rt.dot(tr).dot(p1)\n",
    "\n",
    "print(p1)\n",
    "print(p2)"
   ]
  },
  {
   "cell_type": "code",
   "execution_count": null,
   "metadata": {},
   "outputs": [],
   "source": []
  }
 ]
}