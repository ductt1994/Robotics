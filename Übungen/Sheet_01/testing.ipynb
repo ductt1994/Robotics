{
 "metadata": {
  "language_info": {
   "codemirror_mode": {
    "name": "ipython",
    "version": 3
   },
   "file_extension": ".py",
   "mimetype": "text/x-python",
   "name": "python",
   "nbconvert_exporter": "python",
   "pygments_lexer": "ipython3",
   "version": "3.7.5-final"
  },
  "orig_nbformat": 2,
  "kernelspec": {
   "name": "python3",
   "display_name": "Python 3.7.5 64-bit",
   "metadata": {
    "interpreter": {
     "hash": "57baa5815c940fdaff4d14510622de9616cae602444507ba5d0b6727c008cbd6"
    }
   }
  }
 },
 "nbformat": 4,
 "nbformat_minor": 2,
 "cells": [
  {
   "cell_type": "code",
   "execution_count": 62,
   "metadata": {},
   "outputs": [],
   "source": [
    "#Include all libraries\n",
    "import numpy as np\n",
    "import matplotlib.pyplot as plt"
   ]
  },
  {
   "cell_type": "code",
   "execution_count": 63,
   "metadata": {},
   "outputs": [],
   "source": [
    "#Instructions for testing\n",
    "#1. Plot a point in vehicle coordinate system at position (15,6)\n",
    "#   Project it to the plane with w = 10\n",
    "\n",
    "# #Create the Transformation matrix to project the points from plane(w=1) to plane(w=10)\n",
    "# im_T_v = np.array([[wm_res, 0,          0],\n",
    "#                    [0,      wm_res,     0],\n",
    "#                    [0,      0,     wm_res]])\n",
    "\n",
    "# print(im_T_v)\n",
    "# print(np.linalg.inv(im_T_v))\n",
    "\n",
    "# #Create a point v_p01\n",
    "# v_p01 = np.array([[14.9,5.9,1]])\n",
    "# v_p01 = np.transpose(v_p01)\n",
    "\n",
    "# im_p01 = np.dot(im_T_v,v_p01)\n",
    "# # im_p01 = v_p01 * wm_res\n",
    "# print(im_p01)"
   ]
  },
  {
   "cell_type": "code",
   "execution_count": 66,
   "metadata": {},
   "outputs": [
    {
     "output_type": "stream",
     "name": "stdout",
     "text": [
      "[[ 60.]\n [200.]\n [ 10.]]\n"
     ]
    }
   ],
   "source": [
    "#Given simplified parameters\n",
    "v_dim_x = np.array([15,-5])\n",
    "v_dim_y = np.array([6,-6])\n",
    "\n",
    "wm_res = 10\n",
    "iTv_theta = np.deg2rad(90)\n",
    "iTv_deltax = 6      #[m]    Translation has to be done for w = 1 first; projection follows afterwards\n",
    "iTv_deltay = 15     #[m]    \n",
    "\n",
    "#Create the Transformation matrix to project the points from plane(w=1) to plane(w=10)\n",
    "#To Transform from vehicle to image move inside plane w = 1 first\n",
    "iTv_zoom = np.array([[wm_res, 0,          0],\n",
    "                     [0,      wm_res,     0],\n",
    "                     [0,      0,     wm_res]])\n",
    "iTv_mirror = np.array([[1,  0,   0],\n",
    "                       [0, -1,   0],\n",
    "                       [0,  0,   1]])\n",
    "iTv_rot = np.array([[np.cos(iTv_theta),    -np.sin(iTv_theta),  0],\n",
    "                    [np.sin(iTv_theta),     np.cos(iTv_theta),  0],\n",
    "                    [0,                     0,                  1]])\n",
    "iTv_trans = np.array([[1, 0, iTv_deltax],\n",
    "                      [0, 1, iTv_deltay],\n",
    "                      [0, 0,          1]])\n",
    "\n",
    "# im_T_v = iTv_zoom.dot(iTv_trans.dot(iTv_rot.dot(iTv_mirror)))\n",
    "im_T_v = iTv_zoom.dot(iTv_trans.dot(iTv_mirror.dot(iTv_rot)))\n",
    "\n",
    "#Create a point v_p01\n",
    "v_p01 = np.array([[-5,0,1]])\n",
    "v_p01 = np.transpose(v_p01)\n",
    "\n",
    "im_p01 = np.dot(im_T_v,v_p01)\n",
    "# im_p01 = v_p01 * wm_res\n",
    "print(im_p01)"
   ]
  },
  {
   "cell_type": "code",
   "execution_count": 73,
   "metadata": {},
   "outputs": [
    {
     "output_type": "stream",
     "name": "stdout",
     "text": [
      "[[-5.]\n [-6.]\n [ 1.]]\n"
     ]
    }
   ],
   "source": [
    "#Backtransform\n",
    "im_p03 = np.array([[120],\n",
    "                   [200],\n",
    "                    [10]])\n",
    "\n",
    "v_T_im = np.linalg.inv(im_T_v)\n",
    "\n",
    "v_p03 = v_T_im.dot(im_p03)\n",
    "\n",
    "print(v_p03)"
   ]
  }
 ]
}